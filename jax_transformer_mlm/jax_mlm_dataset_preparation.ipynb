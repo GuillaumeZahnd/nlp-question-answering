{
 "cells": [
  {
   "cell_type": "code",
   "execution_count": 1,
   "id": "5b5e8407-42af-45a0-b55b-9701c35b89d7",
   "metadata": {},
   "outputs": [
    {
     "ename": "SyntaxError",
     "evalue": "invalid syntax (1180341470.py, line 4)",
     "output_type": "error",
     "traceback": [
      "\u001b[0;36m  Cell \u001b[0;32mIn[1], line 4\u001b[0;36m\u001b[0m\n\u001b[0;31m    from ../utils_display import pc\u001b[0m\n\u001b[0m           ^\u001b[0m\n\u001b[0;31mSyntaxError\u001b[0m\u001b[0;31m:\u001b[0m invalid syntax\n"
     ]
    }
   ],
   "source": [
    "from jax_mlm_helpers import build_vocabulary\n",
    "from jax_mlm_helpers import apply_random_masking\n",
    "from jax_mlm_helpers import pad_and_crop_to_maximum_length\n",
    "from ../utils_display import pc"
   ]
  },
  {
   "cell_type": "code",
   "execution_count": null,
   "id": "9bad624c-d520-4147-a74f-65e9155b12a9",
   "metadata": {},
   "outputs": [],
   "source": [
    "import spacy\n",
    "from collections import Counter\n",
    "nlp = spacy.load(\"en_core_web_sm\")\n",
    "from transformers import AutoTokenizer"
   ]
  },
  {
   "cell_type": "code",
   "execution_count": null,
   "id": "72ad7ed0-fd51-4133-9316-e5b153cd797b",
   "metadata": {},
   "outputs": [],
   "source": [
    "with open(\"../local_datasets/wikipedia_man_o_war.txt\", \"r\") as fid:\n",
    "    text = fid.read()"
   ]
  },
  {
   "cell_type": "code",
   "execution_count": null,
   "id": "9671750a-8a72-4d52-8279-ce2d87c2d5f8",
   "metadata": {},
   "outputs": [],
   "source": [
    "text = text.replace(\"\\n\", \" \")\n",
    "while \"  \" in text:\n",
    "    text = text.replace(\"  \", \" \")"
   ]
  },
  {
   "cell_type": "code",
   "execution_count": null,
   "id": "b991e851-e1ce-47ae-9338-af86461c12b8",
   "metadata": {},
   "outputs": [],
   "source": [
    "sentences = [i for i in nlp(text).sents]\n",
    "for i, s in enumerate(sentences):\n",
    "    pc(i, s)"
   ]
  },
  {
   "cell_type": "code",
   "execution_count": null,
   "id": "8ffab1f8-54cf-4e29-b34a-762e6de80c68",
   "metadata": {},
   "outputs": [],
   "source": [
    "model_checkpoint = \"distilbert-base-uncased\"\n",
    "tokenizer = AutoTokenizer.from_pretrained(model_checkpoint)\n",
    "\n",
    "tokens = []\n",
    "for s in sentences:        \n",
    "    tokens.append(tokenizer.tokenize(str(s)))\n",
    "print(tokens[0])"
   ]
  },
  {
   "cell_type": "code",
   "execution_count": null,
   "id": "63e10f45-ca37-48ce-97f1-eee56e223eb7",
   "metadata": {},
   "outputs": [],
   "source": [
    "dico_word2index, dico_index2word = build_vocabulary(texts=tokens)"
   ]
  },
  {
   "cell_type": "code",
   "execution_count": null,
   "id": "ae232506-ac9e-4644-8ad3-5e42931b1504",
   "metadata": {},
   "outputs": [],
   "source": [
    "words_frequency = {}\n",
    "for sentence in sentences:\n",
    "    for word in sentence:\n",
    "        \n",
    "        if str(word) in words_frequency:\n",
    "            words_frequency[str(word)] += 1\n",
    "        else:\n",
    "            words_frequency[str(word)] = 1\n",
    "\n",
    "words_frequency = sorted(words_frequency.items(), key=lambda x:x[1], reverse=True)\n",
    "\n",
    "number_of_examples = 20\n",
    "pc(\"{} most frequent words\".format(number_of_examples), words_frequency[:number_of_examples])\n",
    "pc(\"{} least frequent words\".format(number_of_examples), words_frequency[-number_of_examples:])"
   ]
  },
  {
   "cell_type": "code",
   "execution_count": null,
   "id": "d6ad032c-0d8c-4957-867c-2beb95234833",
   "metadata": {},
   "outputs": [],
   "source": [
    "input_sentence = sentences[14]\n",
    "word_tokens = tokenizer.tokenize(str(input_sentence))\n",
    "input_indices = [dico_word2index.get(w, '[UNK]') for w in word_tokens]\n",
    "\n",
    "pc(\"Input sentence\", input_sentence)\n",
    "pc(\"Word tokens\", word_tokens)\n",
    "pc(\"Input indices\", input_indices)"
   ]
  },
  {
   "cell_type": "code",
   "execution_count": null,
   "id": "475e9cbb-5f1e-4312-86d9-4e5770d1d127",
   "metadata": {},
   "outputs": [],
   "source": [
    "masking_probability = 0.15\n",
    "label_for_unmasked_values = -100\n",
    "maximum_sequence_length = 50\n",
    "mask_index = dico_word2index[\"[MASK]\"]\n",
    "pad_index = dico_word2index[\"[PAD]\"]"
   ]
  },
  {
   "cell_type": "code",
   "execution_count": null,
   "id": "719ffb50-1049-4b29-8b86-60851c9b62c9",
   "metadata": {},
   "outputs": [],
   "source": [
    "input_indices, mask, masked_indices, labels = apply_random_masking(                                                                                              \n",
    "    input_indices=input_indices,                                                                                                 \n",
    "    index_for_masked_values=mask_index,\n",
    "    label_for_unmasked_values=label_for_unmasked_values,                                                                                 \n",
    "     masking_probability=masking_probability)\n",
    "\n",
    "print(\"Before padding / cropping\")\n",
    "pc(\"Input indices\", input_indices)\n",
    "pc(\"Mask\", mask)\n",
    "pc(\"Masked indices\", masked_indices)\n",
    "pc(\"Labels\", labels)"
   ]
  },
  {
   "cell_type": "code",
   "execution_count": null,
   "id": "ade41242-8bd7-4daf-85e4-00b6652de76b",
   "metadata": {},
   "outputs": [],
   "source": [
    "input_indices = pad_and_crop_to_maximum_length(input_indices, padding_value=pad_index, maximum_sequence_length=maximum_sequence_length)\n",
    "mask = pad_and_crop_to_maximum_length(mask, padding_value=1, maximum_sequence_length=maximum_sequence_length)\n",
    "masked_indices = pad_and_crop_to_maximum_length(masked_indices, padding_value=pad_index, maximum_sequence_length=maximum_sequence_length)\n",
    "labels = pad_and_crop_to_maximum_length(labels, padding_value=-100, maximum_sequence_length=maximum_sequence_length)\n",
    "\n",
    "print(\"After padding / cropping\")\n",
    "pc(\"Input indices\", input_indices)\n",
    "pc(\"Mask\", mask)\n",
    "pc(\"Masked indices\", masked_indices)\n",
    "pc(\"Labels\", labels)"
   ]
  }
 ],
 "metadata": {
  "kernelspec": {
   "display_name": "Python 3 (ipykernel)",
   "language": "python",
   "name": "python3"
  },
  "language_info": {
   "codemirror_mode": {
    "name": "ipython",
    "version": 3
   },
   "file_extension": ".py",
   "mimetype": "text/x-python",
   "name": "python",
   "nbconvert_exporter": "python",
   "pygments_lexer": "ipython3",
   "version": "3.10.12"
  }
 },
 "nbformat": 4,
 "nbformat_minor": 5
}
